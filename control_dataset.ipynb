{
 "cells": [
  {
   "cell_type": "code",
   "id": "initial_id",
   "metadata": {
    "collapsed": true,
    "ExecuteTime": {
     "end_time": "2025-06-13T15:28:44.386992Z",
     "start_time": "2025-06-13T15:28:44.381594Z"
    }
   },
   "source": [
    "import numpy as np\n",
    "from sklearn.ensemble import RandomForestClassifier\n",
    "from sklearn.model_selection import train_test_split\n",
    "from sklearn.metrics import accuracy_score"
   ],
   "outputs": [],
   "execution_count": 6
  },
  {
   "metadata": {},
   "cell_type": "markdown",
   "source": "#### Control Dataset Function",
   "id": "fe042ff138f2237e"
  },
  {
   "metadata": {
    "ExecuteTime": {
     "end_time": "2025-06-13T15:29:23.633544Z",
     "start_time": "2025-06-13T15:29:23.609490Z"
    }
   },
   "cell_type": "code",
   "source": [
    "def create_control_dataset(n_samples=1000, random_state=42,\n",
    "                           transform_x1=1.0, transform_x2=1.0):\n",
    "    \"\"\"\n",
    "    Generates a dataset and a transformed version with scaling.\n",
    "\n",
    "    Parameters:\n",
    "    - n_samples: number of samples\n",
    "    - random_state: random seed\n",
    "    - transform_x1: scaling factor for feature X1\n",
    "    - transform_x2: scaling factor for feature X2\n",
    "\n",
    "    Returns:\n",
    "    - X_orig: original features (n_samples x 2)\n",
    "    - X_transformed: transformed features (scaled) (n_samples x 2)\n",
    "    - y: binary target (0 or 1)\n",
    "    \"\"\"\n",
    "    np.random.seed(random_state)\n",
    "    X1 = np.random.uniform(0, 10, size=n_samples)\n",
    "    X2 = np.random.uniform(0, 10, size=n_samples)\n",
    "    y = (X1 + X2 > 10).astype(int)\n",
    "\n",
    "    X_orig = np.stack([X1, X2], axis=1)\n",
    "    X_transformed = np.stack([X1 * transform_x1, X2 * transform_x2], axis=1)\n",
    "\n",
    "    return X_orig, X_transformed, y"
   ],
   "id": "5518ccd2125aec16",
   "outputs": [],
   "execution_count": 8
  },
  {
   "metadata": {},
   "cell_type": "markdown",
   "source": "#### Experimental Setup",
   "id": "4a2696b5e3e52179"
  },
  {
   "metadata": {
    "ExecuteTime": {
     "end_time": "2025-06-13T15:31:24.042215Z",
     "start_time": "2025-06-13T15:31:24.026906Z"
    }
   },
   "cell_type": "code",
   "source": [
    "# First create control dataset\n",
    "X_orig, X_transformed, y = create_control_dataset(\n",
    "n_samples=1000,\n",
    "random_state=42,\n",
    "transform_x1=1,         # No scaling for feature X1         (IMPORTANT SETTING FOR EXPERIMENT)\n",
    "transform_x2=10         # Scale feature X2 by 10            (IMPORTANT SETTING FOR EXPERIMENT)\n",
    ")"
   ],
   "id": "4c8663dc7c27e7e5",
   "outputs": [],
   "execution_count": 12
  },
  {
   "metadata": {
    "ExecuteTime": {
     "end_time": "2025-06-13T15:32:10.400297Z",
     "start_time": "2025-06-13T15:32:10.382445Z"
    }
   },
   "cell_type": "code",
   "source": [
    "# Show first 10 rows of original data\n",
    "print(\"First 10 rows of X_orig:\")\n",
    "print(X_orig[:10])\n",
    "\n",
    "# Show first 10 rows of transformed data\n",
    "print(\"\\nFirst 10 rows of X_transformed:\")\n",
    "print(X_transformed[:10])\n",
    "\n",
    "# Show first 10 targets\n",
    "print(\"\\nFirst 10 values of y:\")\n",
    "print(y[:10])"
   ],
   "id": "f86691806cff8f08",
   "outputs": [
    {
     "name": "stdout",
     "output_type": "stream",
     "text": [
      "First 10 rows of X_orig:\n",
      "[[3.74540119 1.85132929]\n",
      " [9.50714306 5.41900947]\n",
      " [7.31993942 8.72945836]\n",
      " [5.98658484 7.32224886]\n",
      " [1.5601864  8.06561148]\n",
      " [1.5599452  6.58783367]\n",
      " [0.58083612 6.92276565]\n",
      " [8.66176146 8.49195652]\n",
      " [6.01115012 2.49668009]\n",
      " [7.08072578 4.89424964]]\n",
      "\n",
      "First 10 rows of X_transformed:\n",
      "[[ 3.74540119 18.51329288]\n",
      " [ 9.50714306 54.19009474]\n",
      " [ 7.31993942 87.29458359]\n",
      " [ 5.98658484 73.22248864]\n",
      " [ 1.5601864  80.65611479]\n",
      " [ 1.5599452  65.87833667]\n",
      " [ 0.58083612 69.22765645]\n",
      " [ 8.66176146 84.91956516]\n",
      " [ 6.01115012 24.96680089]\n",
      " [ 7.08072578 48.94249636]]\n",
      "\n",
      "First 10 values of y:\n",
      "[0 1 1 1 0 0 0 1 0 1]\n"
     ]
    }
   ],
   "execution_count": 14
  },
  {
   "metadata": {
    "ExecuteTime": {
     "end_time": "2025-06-13T15:29:44.646978Z",
     "start_time": "2025-06-13T15:29:44.630979Z"
    }
   },
   "cell_type": "code",
   "source": [
    "# Then we use the same split indices for both X_orig and X_transformed\n",
    "X_train_idx, X_test_idx, y_train, y_test = train_test_split(\n",
    "    np.arange(len(y)), y, test_size=0.3, random_state=42\n",
    ")\n",
    "\n",
    "# Apply split indices to X_orig and X_transformed\n",
    "X_train_orig = X_orig[X_train_idx]\n",
    "X_test_orig = X_orig[X_test_idx]\n",
    "\n",
    "X_train_trans = X_transformed[X_train_idx]\n",
    "X_test_trans = X_transformed[X_test_idx]"
   ],
   "id": "ecd76466e2031031",
   "outputs": [],
   "execution_count": 9
  },
  {
   "metadata": {},
   "cell_type": "markdown",
   "source": "#### Run Experiments",
   "id": "80a9ec40db586405"
  },
  {
   "metadata": {
    "ExecuteTime": {
     "end_time": "2025-06-13T15:30:05.000231Z",
     "start_time": "2025-06-13T15:30:04.675482Z"
    }
   },
   "cell_type": "code",
   "source": [
    "from sklearn.ensemble import RandomForestClassifier\n",
    "from sklearn.metrics import accuracy_score\n",
    "\n",
    "# Train RF on original data\n",
    "rf_orig = RandomForestClassifier(random_state=42, n_estimators=100)\n",
    "rf_orig.fit(X_train_orig, y_train)\n",
    "y_pred_orig = rf_orig.predict(X_test_orig)\n",
    "acc_orig = accuracy_score(y_test, y_pred_orig)\n",
    "\n",
    "# Train RF on transformed data\n",
    "rf_trans = RandomForestClassifier(random_state=42, n_estimators=100)\n",
    "rf_trans.fit(X_train_trans, y_train)\n",
    "y_pred_trans = rf_trans.predict(X_test_trans)\n",
    "acc_trans = accuracy_score(y_test, y_pred_trans)\n",
    "\n",
    "# Report results\n",
    "print(f\"Accuracy on original data:   {acc_orig:.3f}\")\n",
    "print(f\"Accuracy on transformed data: {acc_trans:.3f}\")\n"
   ],
   "id": "e28c80588156a3b",
   "outputs": [
    {
     "name": "stdout",
     "output_type": "stream",
     "text": [
      "Accuracy on original data:   0.983\n",
      "Accuracy on transformed data: 0.983\n"
     ]
    }
   ],
   "execution_count": 10
  },
  {
   "metadata": {},
   "cell_type": "code",
   "outputs": [],
   "execution_count": null,
   "source": "",
   "id": "48665c5cdea8856f"
  }
 ],
 "metadata": {
  "kernelspec": {
   "display_name": "Python 3",
   "language": "python",
   "name": "python3"
  },
  "language_info": {
   "codemirror_mode": {
    "name": "ipython",
    "version": 2
   },
   "file_extension": ".py",
   "mimetype": "text/x-python",
   "name": "python",
   "nbconvert_exporter": "python",
   "pygments_lexer": "ipython2",
   "version": "2.7.6"
  }
 },
 "nbformat": 4,
 "nbformat_minor": 5
}
