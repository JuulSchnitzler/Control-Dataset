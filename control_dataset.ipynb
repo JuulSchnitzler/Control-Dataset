{
 "cells": [
  {
   "cell_type": "code",
   "id": "initial_id",
   "metadata": {
    "collapsed": true,
    "ExecuteTime": {
     "end_time": "2025-06-14T12:50:00.572660Z",
     "start_time": "2025-06-14T12:50:00.556216Z"
    }
   },
   "source": [
    "import numpy as np\n",
    "import pandas as pd\n"
   ],
   "outputs": [],
   "execution_count": 36
  },
  {
   "metadata": {
    "ExecuteTime": {
     "end_time": "2025-06-14T12:50:00.823566Z",
     "start_time": "2025-06-14T12:50:00.807631Z"
    }
   },
   "cell_type": "code",
   "source": [
    "np.random.seed(42)\n",
    "\n",
    "# Create a single training set (broadly sampled)\n",
    "n_train = 300\n",
    "n_test = 100\n",
    "\n",
    "\n",
    "X_train = np.random.uniform(0, 10, size=(n_train, 2))\n",
    "y_train = (X_train[:, 0] + X_train[:, 1] > 10).astype(int)\n",
    "df_train = pd.DataFrame(X_train, columns=['X1', 'X2'])\n",
    "df_train['y'] = y_train"
   ],
   "id": "6d7bd3555c48f0a1",
   "outputs": [],
   "execution_count": 37
  },
  {
   "metadata": {
    "ExecuteTime": {
     "end_time": "2025-06-14T12:50:01.125187Z",
     "start_time": "2025-06-14T12:50:01.102825Z"
    }
   },
   "cell_type": "code",
   "source": [
    "# Test Set A: random\n",
    "X_test_random = np.random.uniform(0, 10, size=(n_test, 2))\n",
    "y_test_random = (X_test_random[:, 0] + X_test_random[:, 1] > 10).astype(int)\n",
    "\n",
    "# Test Set B: mix of random and near-threshold values\n",
    "X_test_near = np.random.uniform(4.9, 5.1, size=(n_test, 2))         \n",
    "y_test_near = (X_test_near[:, 0] + X_test_near[:, 1] > 10).astype(int)"
   ],
   "id": "c07548c8be2a4097",
   "outputs": [],
   "execution_count": 38
  },
  {
   "metadata": {
    "ExecuteTime": {
     "end_time": "2025-06-14T12:50:01.491233Z",
     "start_time": "2025-06-14T12:50:01.475226Z"
    }
   },
   "cell_type": "code",
   "source": [
    "# Apply monotonic transformation\n",
    "def transform(X):\n",
    "    X_t = X.copy()\n",
    "    X_t[:, 0] *= 2     # scale X1\n",
    "    X_t[:, 1] *= 0.5   # scale X2\n",
    "    return X_t\n",
    "\n",
    "# Apply transformation to all sets\n",
    "X_train_scaled = transform(X_train)\n",
    "X_test_random_scaled = transform(X_test_random)\n",
    "X_test_near_scaled = transform(X_test_near)"
   ],
   "id": "fd499aef8c9df0b6",
   "outputs": [],
   "execution_count": 39
  },
  {
   "metadata": {
    "ExecuteTime": {
     "end_time": "2025-06-14T12:50:02.266223Z",
     "start_time": "2025-06-14T12:50:02.228655Z"
    }
   },
   "cell_type": "code",
   "source": [
    "# Save datasets\n",
    "pd.DataFrame(X_train, columns=[\"X1\", \"X2\"]).assign(y=y_train).to_csv(\"train_original.csv\", index=False)\n",
    "pd.DataFrame(X_train_scaled, columns=[\"X1\", \"X2\"]).assign(y=y_train).to_csv(\"train_scaled.csv\", index=False)\n",
    "\n",
    "pd.DataFrame(X_test_random, columns=[\"X1\", \"X2\"]).assign(y=y_test_random).to_csv(\"test_random.csv\", index=False)\n",
    "pd.DataFrame(X_test_random_scaled, columns=[\"X1\", \"X2\"]).assign(y=y_test_random).to_csv(\"test_random_scaled.csv\", index=False)\n",
    "\n",
    "pd.DataFrame(X_test_near, columns=[\"X1\", \"X2\"]).assign(y=y_test_near).to_csv(\"test_near.csv\", index=False)\n",
    "pd.DataFrame(X_test_near_scaled, columns=[\"X1\", \"X2\"]).assign(y=y_test_near).to_csv(\"test_near_scaled.csv\", index=False)"
   ],
   "id": "ec909f066af33f9c",
   "outputs": [],
   "execution_count": 40
  }
 ],
 "metadata": {
  "kernelspec": {
   "display_name": "Python 3",
   "language": "python",
   "name": "python3"
  },
  "language_info": {
   "codemirror_mode": {
    "name": "ipython",
    "version": 2
   },
   "file_extension": ".py",
   "mimetype": "text/x-python",
   "name": "python",
   "nbconvert_exporter": "python",
   "pygments_lexer": "ipython2",
   "version": "2.7.6"
  }
 },
 "nbformat": 4,
 "nbformat_minor": 5
}
